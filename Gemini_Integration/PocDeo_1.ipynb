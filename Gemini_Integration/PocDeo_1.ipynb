{
 "cells": [
  {
   "cell_type": "code",
   "execution_count": 25,
   "id": "9d088dfb-acd1-4d03-afbd-04e704306bb0",
   "metadata": {},
   "outputs": [],
   "source": [
    "#Este es el enfoque recomendado y más común para desarrollar aplicaciones.\n",
    "#Claridad y Control: Importas y usas la clase ChatGoogleGenerativeAI directamente. Esto hace que tu código sea más claro y te da control total sobre todos los parámetros del modelo (como temperature, top_p, etc.) desde el inicio.\n",
    "#Manejo de API Key: Asume que la clave ya está disponible en el entorno. No incluye código para solicitarla.\n",
    "#Uso Ideal: Para construir cualquier aplicación o script robusto, ya que es la forma más transparente y flexible de trabajar."
   ]
  },
  {
   "cell_type": "code",
   "execution_count": 26,
   "id": "c6dea443-7a14-43b2-92ec-181cab99db45",
   "metadata": {},
   "outputs": [],
   "source": [
    "import langchain\n",
    "import os"
   ]
  },
  {
   "cell_type": "code",
   "execution_count": 27,
   "id": "958893ef-fc5f-4f85-a60b-05a233462a8e",
   "metadata": {},
   "outputs": [],
   "source": [
    "from langchain_google_genai import ChatGoogleGenerativeAI\n",
    "from langchain_core.messages import HumanMessage\n",
    "from dotenv import load_dotenv\n",
    "from langchain.chains import RetrievalQA\n",
    "from langchain.text_splitter import RecursiveCharacterTextSplitter\n",
    "from langchain_community.document_loaders import PyPDFLoader\n",
    "from langchain_community.vectorstores import FAISS\n",
    "from langchain_google_genai import ChatGoogleGenerativeAI, GoogleGenerativeAIEmbeddings"
   ]
  },
  {
   "cell_type": "code",
   "execution_count": 28,
   "id": "a7020ee3-80c5-454e-978d-a68d847b79c1",
   "metadata": {},
   "outputs": [],
   "source": [
    "try:\n",
    "    with open('../gem_apikey.txt') as f:\n",
    "        api_key = f.read().strip()\n",
    "except FileNotFoundError:\n",
    "    print(\"Error: No se encontró el archivo '../gem_apikey.txt'. Asegúrate de que la ruta es correcta.\")\n",
    "    api_key = None"
   ]
  },
  {
   "cell_type": "code",
   "execution_count": 29,
   "id": "04204d2d-93f4-43a8-9c82-cadcfd82c581",
   "metadata": {},
   "outputs": [
    {
     "name": "stdout",
     "output_type": "stream",
     "text": [
      "Cargando el documento PDF...\n",
      "Documento cargado. Número de páginas: 11\n",
      "Dividiendo el texto en fragmentos...\n",
      "Número de fragmentos: 33\n",
      "Creando embeddings y la base de datos vectorial (FAISS) con Gemini...\n",
      "Base de datos vectorial creada.\n",
      "Configurando la cadena de RAG...\n",
      "Cadena de RAG lista. ¡El asistente de profesor está listo!\n",
      "\n",
      "¡El asistente de profesor está listo para responder preguntas sobre el PDF!\n",
      "Escribe 'salir' para terminar la conversación.\n"
     ]
    },
    {
     "name": "stdin",
     "output_type": "stream",
     "text": [
      "\n",
      "Pregunta del estudiante:  saludame\n"
     ]
    },
    {
     "name": "stdout",
     "output_type": "stream",
     "text": [
      "\n",
      "Respuesta del asistente:\n",
      "No tengo información para saludarte.\n"
     ]
    },
    {
     "name": "stdin",
     "output_type": "stream",
     "text": [
      "\n",
      "Pregunta del estudiante:  cuanto es 2+2\n"
     ]
    },
    {
     "name": "stdout",
     "output_type": "stream",
     "text": [
      "\n",
      "Respuesta del asistente:\n",
      "No tengo información sobre eso.\n"
     ]
    },
    {
     "name": "stdin",
     "output_type": "stream",
     "text": [
      "\n",
      "Pregunta del estudiante:  que es el aparato cardiocirculatorio?\n"
     ]
    },
    {
     "name": "stdout",
     "output_type": "stream",
     "text": [
      "\n",
      "Respuesta del asistente:\n",
      "El aparato cardiocirculatorio está constituido por un complejo sistema de conductos, los vasos sanguíneos, por los que discurre la sangre impulsada por una bomba, el corazón; y por el sistema linfático, formado por una red de vasos y tejido linfático distribuidos por todo el cuerpo.\n",
      "\n",
      "Más específicamente, el sistema cardiovascular (que es parte de este aparato) está formado por el corazón y los vasos sanguíneos: arterias, venas y capilares. Se trata de un sistema de transporte en el que una bomba muscular (el corazón) proporciona la energía necesaria para mover el contenido (la sangre), en un circuito cerrado de tubos elásticos (los vasos).\n"
     ]
    },
    {
     "name": "stdin",
     "output_type": "stream",
     "text": [
      "\n",
      "Pregunta del estudiante:  por qué ocurren ataques al corazón?\n"
     ]
    },
    {
     "name": "stdout",
     "output_type": "stream",
     "text": [
      "\n",
      "Respuesta del asistente:\n",
      "Lo siento, la información proporcionada no explica por qué ocurren los ataques al corazón. Solo describe la anatomía, ubicación, inervación y regulación del corazón, así como la estructura de los vasos sanguíneos.\n"
     ]
    },
    {
     "name": "stdin",
     "output_type": "stream",
     "text": [
      "\n",
      "Pregunta del estudiante:  puedes mostrar una imagen del corazón?\n"
     ]
    },
    {
     "name": "stdout",
     "output_type": "stream",
     "text": [
      "\n",
      "Respuesta del asistente:\n",
      "No, no puedo mostrar una imagen del corazón. El texto que me proporcionaste no incluye ninguna imagen.\n"
     ]
    },
    {
     "name": "stdin",
     "output_type": "stream",
     "text": [
      "\n",
      "Pregunta del estudiante:  describe la estructura de los vasos sanguineos\n"
     ]
    },
    {
     "name": "stdout",
     "output_type": "stream",
     "text": [
      "\n",
      "Respuesta del asistente:\n",
      "Los vasos sanguíneos forman una red de conductos que transportan la sangre desde el corazón a los tejidos y desde los tejidos al corazón.\n",
      "\n",
      "Su estructura general y clasificación es la siguiente:\n",
      "\n",
      "*   **Arterias:** Son vasos que distribuyen la sangre del corazón a los tejidos. A medida que se ramifican, su calibre disminuye progresivamente.\n",
      "*   **Arteriolas:** Son las ramificaciones más pequeñas de las arterias.\n",
      "*   **Capilares:** En el interior de los tejidos, las arteriolas se ramifican en múltiples vasos microscópicos que se distribuyen entre las células.\n",
      "*   **Vénulas:** Los capilares se unen en grupos formando venas pequeñas llamadas vénulas.\n",
      "*   **Venas:** Las vénulas se fusionan para dar lugar a venas de mayor calibre, que son las encargadas de retornar la sangre al corazón.\n",
      "\n",
      "En cuanto a la estructura de sus paredes, el texto indica que:\n",
      "\n",
      "*   Las paredes de los **grandes vasos (arterias y venas)** están constituidas por **tres capas**. Sin embargo, el texto proporcionado no especifica los nombres de estas tres capas.\n"
     ]
    },
    {
     "name": "stdin",
     "output_type": "stream",
     "text": [
      "\n",
      "Pregunta del estudiante:  puedes generar un diagrama mermeid que represente esta estructura?\n"
     ]
    },
    {
     "name": "stdout",
     "output_type": "stream",
     "text": [
      "\n",
      "Respuesta del asistente:\n",
      "```mermaid\n",
      "graph TD\n",
      "    A[Corazón]\n",
      "\n",
      "    subgraph Estructura y Composición\n",
      "        A -- \"Formado por\" --> B[Miocardio (Músculo Cardíaco)]\n",
      "        B -- \"Fibras\" --> B1[Fibras Musculares Estriadas]\n",
      "        B1 -- \"Conectadas por\" --> B2[Discos Intercalares]\n",
      "        B -- \"Incluye\" --> B3[Fibras Autorrítmicas (1%)]\n",
      "    end\n",
      "\n",
      "    subgraph Sistema de Conducción Cardíaco\n",
      "        A -- \"Posee\" --> C[Sistema de Conducción Cardíaco]\n",
      "        C -- \"Componente clave\" --> C1[Nódulo Sinusal]\n",
      "        C -- \"Componente clave\" --> C2[Nódulo Auriculoventricular (Nódulo AV)]\n",
      "        C1 -- \"Genera\" --> D[Potencial de Acción]\n",
      "    end\n",
      "\n",
      "    subgraph Fisiología del Potencial de Acción\n",
      "        D -- \"Causa\" --> E[Contracción del Músculo Cardíaco]\n",
      "        D -- \"Fases\" --> D1[Despolarización]\n",
      "        D -- \"Fases\" --> D2[Meseta]\n",
      "        D -- \"Fases\" --> D3[Repolarización]\n",
      "        D -- \"Se propaga desde\" --> C1\n",
      "        D -- \"Se propaga por\" --> F[Miocardio Auricular]\n",
      "        F -- \"Hasta\" --> C2\n",
      "    end\n",
      "\n",
      "    subgraph Ubicación y Características Físicas\n",
      "        A -- \"Situado en\" --> G[Tórax]\n",
      "        G -- \"Específicos\" --> G1[Mediastino]\n",
      "        G -- \"Específicos\" --> G2[Por encima del Diafragma]\n",
      "        A -- \"Orientación\" --> G3[Casi 2/3 en Hemitórax Izquierdo]\n",
      "        A -- \"Forma\" --> G4[Cono]\n",
      "        G4 -- \"Partes\" --> G5[Vértice (anteroinferior izquierda)]\n",
      "        G4 -- \"Partes\" --> G6[Base (posterosuperior)]\n",
      "        A -- \"Peso aprox.\" --> G7[250-300g]\n",
      "    end\n",
      "\n",
      "    subgraph Aorta\n",
      "        H[Aorta]\n",
      "        H -- \"Tiene tramo\" --> H1[Aorta Torácica]\n",
      "        H -- \"Tiene tramo\" --> H2[Aorta Abdominal]\n",
      "        H -- \"Atraviesa\" --> G2[Diafragma]\n",
      "        H -- \"Ubicación\" --> H3[Descendente por delante de la Columna Vertebral]\n",
      "    end\n",
      "\n",
      "    A --- H[Aorta]\n",
      "```\n"
     ]
    },
    {
     "name": "stdin",
     "output_type": "stream",
     "text": [
      "\n",
      "Pregunta del estudiante:  salir\n"
     ]
    }
   ],
   "source": [
    "\n",
    "def main():\n",
    "    # 1. Configuración de la clave de API de Google\n",
    "    load_dotenv()\n",
    "    if not api_key:\n",
    "        raise ValueError(\"La variable de entorno GOOGLE_API_KEY no está configurada.\")\n",
    "\n",
    "    # 2. Carga del documento PDF del profesor\n",
    "    # Asegúrate de tener un archivo 'ejemplo.pdf' en el mismo directorio.\n",
    "    print(\"Cargando el documento PDF...\")\n",
    "    try:\n",
    "        loader = PyPDFLoader(\"../Docs/Doc1.pdf\")\n",
    "        documents = loader.load()\n",
    "        print(f\"Documento cargado. Número de páginas: {len(documents)}\")\n",
    "    except Exception as e:\n",
    "        print(f\"Error al cargar el PDF: {e}\")\n",
    "        return\n",
    "\n",
    "    # 3. División del texto en fragmentos\n",
    "    print(\"Dividiendo el texto en fragmentos...\")\n",
    "    text_splitter = RecursiveCharacterTextSplitter(chunk_size=1000, chunk_overlap=200)\n",
    "    texts = text_splitter.split_documents(documents)\n",
    "    print(f\"Número de fragmentos: {len(texts)}\")\n",
    "\n",
    "    # 4. Creación de Embeddings con Gemini y la base de datos vectorial (FAISS)\n",
    "    print(\"Creando embeddings y la base de datos vectorial (FAISS) con Gemini...\")\n",
    "    embeddings = GoogleGenerativeAIEmbeddings(model=\"models/embedding-001\", google_api_key=api_key)\n",
    "    vectorstore = FAISS.from_documents(texts, embeddings)\n",
    "    print(\"Base de datos vectorial creada.\")\n",
    "\n",
    "    # 5. Configuración del modelo de lenguaje (LLM) de Gemini\n",
    "    llm = ChatGoogleGenerativeAI(model=\"gemini-2.5-flash\", temperature=0.2, google_api_key=api_key)\n",
    "\n",
    "    # 6. Creación de la cadena de Retrieval-Augmented Generation (RAG)\n",
    "    print(\"Configurando la cadena de RAG...\")\n",
    "    qa_chain = RetrievalQA.from_chain_type(\n",
    "        llm=llm,\n",
    "        chain_type=\"stuff\",\n",
    "        retriever=vectorstore.as_retriever()\n",
    "    )\n",
    "    print(\"Cadena de RAG lista. ¡El asistente de profesor está listo!\")\n",
    "\n",
    "    # 7. Bucle de preguntas y respuestas\n",
    "    print(\"\\n¡El asistente de profesor está listo para responder preguntas sobre el PDF!\")\n",
    "    print(\"Escribe 'salir' para terminar la conversación.\")\n",
    "    while True:\n",
    "        query = input(\"\\nPregunta del estudiante: \")\n",
    "        if query.lower() == \"salir\":\n",
    "            break\n",
    "        \n",
    "        # Generación de la respuesta\n",
    "        try:\n",
    "            result = qa_chain.invoke({\"query\": query})\n",
    "            print(\"\\nRespuesta del asistente:\")\n",
    "            print(result[\"result\"])\n",
    "        except Exception as e:\n",
    "            print(f\"Ocurrió un error: {e}\")\n",
    "\n",
    "if __name__ == \"__main__\":\n",
    "    main()"
   ]
  }
 ],
 "metadata": {
  "kernelspec": {
   "display_name": "Python [conda env:base] *",
   "language": "python",
   "name": "conda-base-py"
  },
  "language_info": {
   "codemirror_mode": {
    "name": "ipython",
    "version": 3
   },
   "file_extension": ".py",
   "mimetype": "text/x-python",
   "name": "python",
   "nbconvert_exporter": "python",
   "pygments_lexer": "ipython3",
   "version": "3.13.5"
  }
 },
 "nbformat": 4,
 "nbformat_minor": 5
}
