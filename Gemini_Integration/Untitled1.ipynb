{
 "cells": [
  {
   "cell_type": "code",
   "execution_count": null,
   "id": "a2bcf0a6-4ea2-4db5-a9fb-6f0b60d685d8",
   "metadata": {},
   "outputs": [],
   "source": [
    "#Este enfoque utiliza una función de conveniencia (init_chat_model) diseñada para facilitar pruebas rápidas."
   ]
  },
  {
   "cell_type": "code",
   "execution_count": 3,
   "id": "4be9c64d-3a63-42f9-bea8-9fc0e605d367",
   "metadata": {},
   "outputs": [],
   "source": [
    "import getpass\n",
    "import os\n",
    "\n",
    "if not os.environ.get(\"GOOGLE_API_KEY\"):\n",
    "  os.environ[\"GOOGLE_API_KEY\"] = getpass.getpass(\"Enter API key for Google Gemini: \")\n",
    "\n",
    "from langchain.chat_models import init_chat_model\n",
    "\n",
    "model = init_chat_model(\"gemini-2.5-flash\", model_provider=\"google_genai\")"
   ]
  },
  {
   "cell_type": "code",
   "execution_count": 4,
   "id": "4445cb48-5f6f-4094-acf8-a30fe3bb8fc0",
   "metadata": {},
   "outputs": [],
   "source": [
    "result = model.invoke(\"Hello, world!\")"
   ]
  },
  {
   "cell_type": "code",
   "execution_count": 5,
   "id": "268309d5-0a7f-490c-b8f1-35ad49efa4cd",
   "metadata": {},
   "outputs": [
    {
     "data": {
      "text/plain": [
       "\"Hello there! It's great to connect.\\n\\nHow can I help you today?\""
      ]
     },
     "execution_count": 5,
     "metadata": {},
     "output_type": "execute_result"
    }
   ],
   "source": [
    "result.content"
   ]
  }
 ],
 "metadata": {
  "kernelspec": {
   "display_name": "Python [conda env:base] *",
   "language": "python",
   "name": "conda-base-py"
  },
  "language_info": {
   "codemirror_mode": {
    "name": "ipython",
    "version": 3
   },
   "file_extension": ".py",
   "mimetype": "text/x-python",
   "name": "python",
   "nbconvert_exporter": "python",
   "pygments_lexer": "ipython3",
   "version": "3.13.5"
  }
 },
 "nbformat": 4,
 "nbformat_minor": 5
}
