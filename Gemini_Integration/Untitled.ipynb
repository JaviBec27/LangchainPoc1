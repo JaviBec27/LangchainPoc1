{
 "cells": [
  {
   "cell_type": "code",
   "execution_count": 1,
   "id": "9d088dfb-acd1-4d03-afbd-04e704306bb0",
   "metadata": {},
   "outputs": [],
   "source": [
    "#Este es el enfoque recomendado y más común para desarrollar aplicaciones.\n",
    "#Claridad y Control: Importas y usas la clase ChatGoogleGenerativeAI directamente. Esto hace que tu código sea más claro y te da control total sobre todos los parámetros del modelo (como temperature, top_p, etc.) desde el inicio.\n",
    "#Manejo de API Key: Asume que la clave ya está disponible en el entorno. No incluye código para solicitarla.\n",
    "#Uso Ideal: Para construir cualquier aplicación o script robusto, ya que es la forma más transparente y flexible de trabajar."
   ]
  },
  {
   "cell_type": "code",
   "execution_count": null,
   "id": "c6dea443-7a14-43b2-92ec-181cab99db45",
   "metadata": {},
   "outputs": [],
   "source": [
    "import langchain"
   ]
  },
  {
   "cell_type": "code",
   "execution_count": null,
   "id": "958893ef-fc5f-4f85-a60b-05a233462a8e",
   "metadata": {},
   "outputs": [],
   "source": [
    "from langchain_google_genai import ChatGoogleGenerativeAI\n",
    "from langchain_core.messages import HumanMessage"
   ]
  },
  {
   "cell_type": "code",
   "execution_count": null,
   "id": "a7020ee3-80c5-454e-978d-a68d847b79c1",
   "metadata": {},
   "outputs": [],
   "source": [
    "try:\n",
    "    with open('../gem_apikey.txt') as f:\n",
    "        api_key = f.read().strip()\n",
    "except FileNotFoundError:\n",
    "    print(\"Error: No se encontró el archivo '../gem_apikey.txt'. Asegúrate de que la ruta es correcta.\")\n",
    "    api_key = None"
   ]
  },
  {
   "cell_type": "code",
   "execution_count": null,
   "id": "95c05fe2-59ba-4aac-9055-45a1e975c73f",
   "metadata": {},
   "outputs": [],
   "source": [
    "if api_key:\n",
    "    # Usas ChatGoogleGenerativeAI, especificando el modelo y tu clave\n",
    "    chat = ChatGoogleGenerativeAI(model=\"gemini-2.5-flash\", google_api_key=api_key)\n",
    "\n",
    "    print(\"¡Modelo Gemini instanciado correctamente!\")"
   ]
  }
 ],
 "metadata": {
  "kernelspec": {
   "display_name": "Python [conda env:base] *",
   "language": "python",
   "name": "conda-base-py"
  },
  "language_info": {
   "codemirror_mode": {
    "name": "ipython",
    "version": 3
   },
   "file_extension": ".py",
   "mimetype": "text/x-python",
   "name": "python",
   "nbconvert_exporter": "python",
   "pygments_lexer": "ipython3",
   "version": "3.13.5"
  }
 },
 "nbformat": 4,
 "nbformat_minor": 5
}
